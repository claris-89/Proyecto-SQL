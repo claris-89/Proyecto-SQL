{
 "cells": [
  {
   "cell_type": "markdown",
   "metadata": {},
   "source": [
    "Hola de nuevo **Clara**!\n",
    "\n",
    "Soy **Patricio Requena** 👋. Es un placer ser el revisor de tu proyecto el día de hoy!\n",
    "\n",
    "Revisaré tu proyecto detenidamente con el objetivo de ayudarte a mejorar y perfeccionar tus habilidades. Durante mi revisión, identificaré áreas donde puedas hacer mejoras en tu código, señalando específicamente qué y cómo podrías ajustar para optimizar el rendimiento y la claridad de tu proyecto. Además, es importante para mí destacar los aspectos que has manejado excepcionalmente bien. Reconocer tus fortalezas te ayudará a entender qué técnicas y métodos están funcionando a tu favor y cómo puedes aplicarlos en futuras tareas. \n",
    "\n",
    "_**Recuerda que al final de este notebook encontrarás un comentario general de mi parte**_, empecemos!\n",
    "\n",
    "Encontrarás mis comentarios dentro de cajas verdes, amarillas o rojas, ⚠️ **por favor, no muevas, modifiques o borres mis comentarios** ⚠️:\n",
    "\n",
    "\n",
    "<div class=\"alert alert-block alert-success\">\n",
    "<b>Comentario del revisor</b> <a class=“tocSkip”></a>\n",
    "Si todo está perfecto.\n",
    "</div>\n",
    "\n",
    "<div class=\"alert alert-block alert-warning\">\n",
    "<b>Comentario del revisor</b> <a class=“tocSkip”></a>\n",
    "Si tu código está bien pero se puede mejorar o hay algún detalle que le hace falta.\n",
    "</div>\n",
    "\n",
    "<div class=\"alert alert-block alert-danger\">\n",
    "<b>Comentario del revisor</b> <a class=“tocSkip”></a>\n",
    "Si de pronto hace falta algo o existe algún problema con tu código o conclusiones.\n",
    "</div>\n",
    "\n",
    "Puedes responderme de esta forma:\n",
    "<div class=\"alert alert-block alert-info\">\n",
    "<b>Respuesta del estudiante</b> <a class=“tocSkip”></a>\n",
    "Muchísimas gracias por las observaciones 🤗\n",
    "</div>"
   ]
  },
  {
   "cell_type": "markdown",
   "metadata": {},
   "source": [
    "# Introducción \n",
    "\n",
    "El presente proyecto se centra en el análisis de una base de datos proporcionada por uno de estos servicios emergentes en el mercado literario digital. La base de datos incluye información detallada sobre libros, editoriales, autores, calificaciones de clientes y reseñas de libros. El objetivo principal de este análisis es generar una propuesta de valor sólida para un nuevo producto que pueda satisfacer mejor las necesidades de los lectores contemporáneos.\n",
    "\n",
    "A través de un análisis exhaustivo de los datos, se explorarán diversas métricas clave, como el número de libros publicados, la calidad de las calificaciones, y el nivel de compromiso de los usuarios. Además, se identificarán tendencias y patrones que puedan informar el desarrollo de características innovadoras y atractivas para la nueva aplicación.\n",
    "\n",
    "En un mundo donde la lectura digital está en auge, este proyecto tiene el potencial de aportar insights valiosos que ayuden a crear una plataforma de lectura más intuitiva y personalizada, fomentando una experiencia de usuario enriquecedora y alineada con las expectativas del lector moderno."
   ]
  },
  {
   "cell_type": "markdown",
   "metadata": {},
   "source": [
    "### Objetivos del Estudio\n",
    "\n",
    "El presente estudio tiene como propósito principal analizar los datos proporcionados por un servicio emergente en el mercado literario digital para generar una propuesta de valor que mejore la experiencia de los usuarios y satisfaga mejor sus necesidades. Para lograr este propósito, se han definido los siguientes objetivos específicos:\n",
    "\n",
    "1. **Analizar la Producción Editorial Reciente**:\n",
    "   - **Objetivo**: Evaluar la cantidad de libros publicados después del 1 de enero de 2000 para entender la tendencia de producción editorial en los últimos años.\n",
    "\n",
    "2. **Evaluar la Calidad del Contenido Literario**:\n",
    "   - **Objetivo**: Determinar la calificación promedio de los libros y analizar las opiniones de los usuarios para evaluar la calidad del contenido ofrecido.\n",
    "\n",
    "3. **Identificar la Editorial Más Activa**:\n",
    "   - **Objetivo**: Identificar la editorial que ha publicado el mayor número de libros con más de 50 páginas, excluyendo así folletos y publicaciones menores.\n",
    "\n",
    "4. **Determinar el Autor con Mejor Calificación Promedio**:\n",
    "   - **Objetivo**: Identificar al autor que tiene la calificación promedio más alta, considerando solo los libros con al menos 50 calificaciones.\n",
    "\n",
    "5. **Evaluar el Nivel de Compromiso de los Usuarios**:\n",
    "   - **Objetivo**: Analizar el número promedio de reseñas de texto entre los usuarios que han calificado más de 50 libros para entender el nivel de compromiso y participación.\n",
    "  \n",
    "6. **Generar una Propuesta de Valor**:\n",
    "   - **Objetivo**: Utilizar los insights obtenidos del análisis de datos para desarrollar una propuesta de valor que optimice la experiencia del usuario en la nueva aplicación."
   ]
  },
  {
   "cell_type": "markdown",
   "metadata": {},
   "source": [
    "<div class=\"alert alert-block alert-success\">\n",
    "<b>Comentario del revisor (1ra Iteracion)</b> <a class=“tocSkip”></a>\n",
    "\n",
    "Buen detalle el incluir la introducción al proyecto, esto hace que tu notebook sea mucho más fácil de entender. Te animo a continuar con esta práctica!\n",
    "</div>"
   ]
  },
  {
   "cell_type": "code",
   "execution_count": 1,
   "metadata": {},
   "outputs": [],
   "source": [
    "# Importacion de librerias necesarias\n",
    "import pandas as pd\n",
    "from sqlalchemy import create_engine"
   ]
  },
  {
   "cell_type": "code",
   "execution_count": 2,
   "metadata": {},
   "outputs": [],
   "source": [
    "# Código para la conexión a la base de datos \n",
    "db_config = {\n",
    " 'user': 'practicum_student', # username\n",
    " 'pwd': 'QnmDH8Sc2TQLvy2G3Vvh7', # password\n",
    " 'host': 'yp-trainers-practicum.cluster-czs0gxyx2d8w.us-east-1.rds.amazonaws.com',\n",
    " 'port': 5432, # connection port\n",
    " 'db': 'data-analyst-final-project-db' # the name of the database\n",
    " }\n",
    "connection_string = 'postgresql://{}:{}@{}:{}/{}'.format(db_config['user'],\n",
    "\n",
    "db_config['pwd'],\n",
    "\n",
    "db_config['host'],\n",
    "db_config['port'],\n",
    "\n",
    "db_config['db'])\n",
    "\n",
    "engine = create_engine(connection_string, connect_args={'sslmode':'require'})\n",
    "                                                        \n",
    "#pd.io.sql.read_sql(query, con = engine)"
   ]
  },
  {
   "cell_type": "code",
   "execution_count": 22,
   "metadata": {},
   "outputs": [
    {
     "name": "stdout",
     "output_type": "stream",
     "text": [
      "Primeras filas de la tabla books: \n"
     ]
    },
    {
     "data": {
      "text/html": [
       "<div>\n",
       "<style scoped>\n",
       "    .dataframe tbody tr th:only-of-type {\n",
       "        vertical-align: middle;\n",
       "    }\n",
       "\n",
       "    .dataframe tbody tr th {\n",
       "        vertical-align: top;\n",
       "    }\n",
       "\n",
       "    .dataframe thead th {\n",
       "        text-align: right;\n",
       "    }\n",
       "</style>\n",
       "<table border=\"1\" class=\"dataframe\">\n",
       "  <thead>\n",
       "    <tr style=\"text-align: right;\">\n",
       "      <th></th>\n",
       "      <th>book_id</th>\n",
       "      <th>author_id</th>\n",
       "      <th>title</th>\n",
       "      <th>num_pages</th>\n",
       "      <th>publication_date</th>\n",
       "      <th>publisher_id</th>\n",
       "    </tr>\n",
       "  </thead>\n",
       "  <tbody>\n",
       "    <tr>\n",
       "      <th>0</th>\n",
       "      <td>1</td>\n",
       "      <td>546</td>\n",
       "      <td>'Salem's Lot</td>\n",
       "      <td>594</td>\n",
       "      <td>2005-11-01</td>\n",
       "      <td>93</td>\n",
       "    </tr>\n",
       "    <tr>\n",
       "      <th>1</th>\n",
       "      <td>2</td>\n",
       "      <td>465</td>\n",
       "      <td>1 000 Places to See Before You Die</td>\n",
       "      <td>992</td>\n",
       "      <td>2003-05-22</td>\n",
       "      <td>336</td>\n",
       "    </tr>\n",
       "    <tr>\n",
       "      <th>2</th>\n",
       "      <td>3</td>\n",
       "      <td>407</td>\n",
       "      <td>13 Little Blue Envelopes (Little Blue Envelope...</td>\n",
       "      <td>322</td>\n",
       "      <td>2010-12-21</td>\n",
       "      <td>135</td>\n",
       "    </tr>\n",
       "    <tr>\n",
       "      <th>3</th>\n",
       "      <td>4</td>\n",
       "      <td>82</td>\n",
       "      <td>1491: New Revelations of the Americas Before C...</td>\n",
       "      <td>541</td>\n",
       "      <td>2006-10-10</td>\n",
       "      <td>309</td>\n",
       "    </tr>\n",
       "    <tr>\n",
       "      <th>4</th>\n",
       "      <td>5</td>\n",
       "      <td>125</td>\n",
       "      <td>1776</td>\n",
       "      <td>386</td>\n",
       "      <td>2006-07-04</td>\n",
       "      <td>268</td>\n",
       "    </tr>\n",
       "  </tbody>\n",
       "</table>\n",
       "</div>"
      ],
      "text/plain": [
       "   book_id  author_id                                              title  \\\n",
       "0        1        546                                       'Salem's Lot   \n",
       "1        2        465                 1 000 Places to See Before You Die   \n",
       "2        3        407  13 Little Blue Envelopes (Little Blue Envelope...   \n",
       "3        4         82  1491: New Revelations of the Americas Before C...   \n",
       "4        5        125                                               1776   \n",
       "\n",
       "   num_pages publication_date  publisher_id  \n",
       "0        594       2005-11-01            93  \n",
       "1        992       2003-05-22           336  \n",
       "2        322       2010-12-21           135  \n",
       "3        541       2006-10-10           309  \n",
       "4        386       2006-07-04           268  "
      ]
     },
     "metadata": {},
     "output_type": "display_data"
    },
    {
     "name": "stdout",
     "output_type": "stream",
     "text": [
      "\n",
      "\n",
      "Primeras filas de la tabla authors: \n"
     ]
    },
    {
     "data": {
      "text/html": [
       "<div>\n",
       "<style scoped>\n",
       "    .dataframe tbody tr th:only-of-type {\n",
       "        vertical-align: middle;\n",
       "    }\n",
       "\n",
       "    .dataframe tbody tr th {\n",
       "        vertical-align: top;\n",
       "    }\n",
       "\n",
       "    .dataframe thead th {\n",
       "        text-align: right;\n",
       "    }\n",
       "</style>\n",
       "<table border=\"1\" class=\"dataframe\">\n",
       "  <thead>\n",
       "    <tr style=\"text-align: right;\">\n",
       "      <th></th>\n",
       "      <th>author_id</th>\n",
       "      <th>author</th>\n",
       "    </tr>\n",
       "  </thead>\n",
       "  <tbody>\n",
       "    <tr>\n",
       "      <th>0</th>\n",
       "      <td>1</td>\n",
       "      <td>A.S. Byatt</td>\n",
       "    </tr>\n",
       "    <tr>\n",
       "      <th>1</th>\n",
       "      <td>2</td>\n",
       "      <td>Aesop/Laura Harris/Laura Gibbs</td>\n",
       "    </tr>\n",
       "    <tr>\n",
       "      <th>2</th>\n",
       "      <td>3</td>\n",
       "      <td>Agatha Christie</td>\n",
       "    </tr>\n",
       "    <tr>\n",
       "      <th>3</th>\n",
       "      <td>4</td>\n",
       "      <td>Alan Brennert</td>\n",
       "    </tr>\n",
       "    <tr>\n",
       "      <th>4</th>\n",
       "      <td>5</td>\n",
       "      <td>Alan Moore/David   Lloyd</td>\n",
       "    </tr>\n",
       "  </tbody>\n",
       "</table>\n",
       "</div>"
      ],
      "text/plain": [
       "   author_id                          author\n",
       "0          1                      A.S. Byatt\n",
       "1          2  Aesop/Laura Harris/Laura Gibbs\n",
       "2          3                 Agatha Christie\n",
       "3          4                   Alan Brennert\n",
       "4          5        Alan Moore/David   Lloyd"
      ]
     },
     "metadata": {},
     "output_type": "display_data"
    },
    {
     "name": "stdout",
     "output_type": "stream",
     "text": [
      "\n",
      "\n",
      "Primeras filas de la tabla ratings: \n"
     ]
    },
    {
     "data": {
      "text/html": [
       "<div>\n",
       "<style scoped>\n",
       "    .dataframe tbody tr th:only-of-type {\n",
       "        vertical-align: middle;\n",
       "    }\n",
       "\n",
       "    .dataframe tbody tr th {\n",
       "        vertical-align: top;\n",
       "    }\n",
       "\n",
       "    .dataframe thead th {\n",
       "        text-align: right;\n",
       "    }\n",
       "</style>\n",
       "<table border=\"1\" class=\"dataframe\">\n",
       "  <thead>\n",
       "    <tr style=\"text-align: right;\">\n",
       "      <th></th>\n",
       "      <th>rating_id</th>\n",
       "      <th>book_id</th>\n",
       "      <th>username</th>\n",
       "      <th>rating</th>\n",
       "    </tr>\n",
       "  </thead>\n",
       "  <tbody>\n",
       "    <tr>\n",
       "      <th>0</th>\n",
       "      <td>1</td>\n",
       "      <td>1</td>\n",
       "      <td>ryanfranco</td>\n",
       "      <td>4</td>\n",
       "    </tr>\n",
       "    <tr>\n",
       "      <th>1</th>\n",
       "      <td>2</td>\n",
       "      <td>1</td>\n",
       "      <td>grantpatricia</td>\n",
       "      <td>2</td>\n",
       "    </tr>\n",
       "    <tr>\n",
       "      <th>2</th>\n",
       "      <td>3</td>\n",
       "      <td>1</td>\n",
       "      <td>brandtandrea</td>\n",
       "      <td>5</td>\n",
       "    </tr>\n",
       "    <tr>\n",
       "      <th>3</th>\n",
       "      <td>4</td>\n",
       "      <td>2</td>\n",
       "      <td>lorichen</td>\n",
       "      <td>3</td>\n",
       "    </tr>\n",
       "    <tr>\n",
       "      <th>4</th>\n",
       "      <td>5</td>\n",
       "      <td>2</td>\n",
       "      <td>mariokeller</td>\n",
       "      <td>2</td>\n",
       "    </tr>\n",
       "  </tbody>\n",
       "</table>\n",
       "</div>"
      ],
      "text/plain": [
       "   rating_id  book_id       username  rating\n",
       "0          1        1     ryanfranco       4\n",
       "1          2        1  grantpatricia       2\n",
       "2          3        1   brandtandrea       5\n",
       "3          4        2       lorichen       3\n",
       "4          5        2    mariokeller       2"
      ]
     },
     "metadata": {},
     "output_type": "display_data"
    },
    {
     "name": "stdout",
     "output_type": "stream",
     "text": [
      "\n",
      "\n",
      "Primeras filas de la tabla reviews: \n"
     ]
    },
    {
     "data": {
      "text/html": [
       "<div>\n",
       "<style scoped>\n",
       "    .dataframe tbody tr th:only-of-type {\n",
       "        vertical-align: middle;\n",
       "    }\n",
       "\n",
       "    .dataframe tbody tr th {\n",
       "        vertical-align: top;\n",
       "    }\n",
       "\n",
       "    .dataframe thead th {\n",
       "        text-align: right;\n",
       "    }\n",
       "</style>\n",
       "<table border=\"1\" class=\"dataframe\">\n",
       "  <thead>\n",
       "    <tr style=\"text-align: right;\">\n",
       "      <th></th>\n",
       "      <th>review_id</th>\n",
       "      <th>book_id</th>\n",
       "      <th>username</th>\n",
       "      <th>text</th>\n",
       "    </tr>\n",
       "  </thead>\n",
       "  <tbody>\n",
       "    <tr>\n",
       "      <th>0</th>\n",
       "      <td>1</td>\n",
       "      <td>1</td>\n",
       "      <td>brandtandrea</td>\n",
       "      <td>Mention society tell send professor analysis. ...</td>\n",
       "    </tr>\n",
       "    <tr>\n",
       "      <th>1</th>\n",
       "      <td>2</td>\n",
       "      <td>1</td>\n",
       "      <td>ryanfranco</td>\n",
       "      <td>Foot glass pretty audience hit themselves. Amo...</td>\n",
       "    </tr>\n",
       "    <tr>\n",
       "      <th>2</th>\n",
       "      <td>3</td>\n",
       "      <td>2</td>\n",
       "      <td>lorichen</td>\n",
       "      <td>Listen treat keep worry. Miss husband tax but ...</td>\n",
       "    </tr>\n",
       "    <tr>\n",
       "      <th>3</th>\n",
       "      <td>4</td>\n",
       "      <td>3</td>\n",
       "      <td>johnsonamanda</td>\n",
       "      <td>Finally month interesting blue could nature cu...</td>\n",
       "    </tr>\n",
       "    <tr>\n",
       "      <th>4</th>\n",
       "      <td>5</td>\n",
       "      <td>3</td>\n",
       "      <td>scotttamara</td>\n",
       "      <td>Nation purpose heavy give wait song will. List...</td>\n",
       "    </tr>\n",
       "  </tbody>\n",
       "</table>\n",
       "</div>"
      ],
      "text/plain": [
       "   review_id  book_id       username  \\\n",
       "0          1        1   brandtandrea   \n",
       "1          2        1     ryanfranco   \n",
       "2          3        2       lorichen   \n",
       "3          4        3  johnsonamanda   \n",
       "4          5        3    scotttamara   \n",
       "\n",
       "                                                text  \n",
       "0  Mention society tell send professor analysis. ...  \n",
       "1  Foot glass pretty audience hit themselves. Amo...  \n",
       "2  Listen treat keep worry. Miss husband tax but ...  \n",
       "3  Finally month interesting blue could nature cu...  \n",
       "4  Nation purpose heavy give wait song will. List...  "
      ]
     },
     "metadata": {},
     "output_type": "display_data"
    },
    {
     "name": "stdout",
     "output_type": "stream",
     "text": [
      "\n",
      "\n",
      "Primeras filas de la tabla publishers: \n"
     ]
    },
    {
     "data": {
      "text/html": [
       "<div>\n",
       "<style scoped>\n",
       "    .dataframe tbody tr th:only-of-type {\n",
       "        vertical-align: middle;\n",
       "    }\n",
       "\n",
       "    .dataframe tbody tr th {\n",
       "        vertical-align: top;\n",
       "    }\n",
       "\n",
       "    .dataframe thead th {\n",
       "        text-align: right;\n",
       "    }\n",
       "</style>\n",
       "<table border=\"1\" class=\"dataframe\">\n",
       "  <thead>\n",
       "    <tr style=\"text-align: right;\">\n",
       "      <th></th>\n",
       "      <th>publisher_id</th>\n",
       "      <th>publisher</th>\n",
       "    </tr>\n",
       "  </thead>\n",
       "  <tbody>\n",
       "    <tr>\n",
       "      <th>0</th>\n",
       "      <td>1</td>\n",
       "      <td>Ace</td>\n",
       "    </tr>\n",
       "    <tr>\n",
       "      <th>1</th>\n",
       "      <td>2</td>\n",
       "      <td>Ace Book</td>\n",
       "    </tr>\n",
       "    <tr>\n",
       "      <th>2</th>\n",
       "      <td>3</td>\n",
       "      <td>Ace Books</td>\n",
       "    </tr>\n",
       "    <tr>\n",
       "      <th>3</th>\n",
       "      <td>4</td>\n",
       "      <td>Ace Hardcover</td>\n",
       "    </tr>\n",
       "    <tr>\n",
       "      <th>4</th>\n",
       "      <td>5</td>\n",
       "      <td>Addison Wesley Publishing Company</td>\n",
       "    </tr>\n",
       "  </tbody>\n",
       "</table>\n",
       "</div>"
      ],
      "text/plain": [
       "   publisher_id                          publisher\n",
       "0             1                                Ace\n",
       "1             2                           Ace Book\n",
       "2             3                          Ace Books\n",
       "3             4                      Ace Hardcover\n",
       "4             5  Addison Wesley Publishing Company"
      ]
     },
     "metadata": {},
     "output_type": "display_data"
    },
    {
     "name": "stdout",
     "output_type": "stream",
     "text": [
      "\n",
      "\n"
     ]
    }
   ],
   "source": [
    "# Lista de nombres de las tablas a consultar\n",
    "tables = [\"books\", \"authors\", \"ratings\", \"reviews\", \"publishers\"]\n",
    "\n",
    "# Ciclo for para ejecutar las consultas y mostrar los resultados\n",
    "for table in tables:\n",
    "    query = f\"SELECT * FROM {table}\"\n",
    "    table_data = pd.read_sql(query, con = engine)\n",
    "    print(f\"Primeras filas de la tabla {table}: \")\n",
    "    display(table_data.head())\n",
    "    print(\"\\n\")"
   ]
  },
  {
   "cell_type": "markdown",
   "metadata": {},
   "source": [
    "#### Encuentra el número de libros publicados después del 1 de enero de 2000."
   ]
  },
  {
   "cell_type": "code",
   "execution_count": 4,
   "metadata": {},
   "outputs": [
    {
     "name": "stdout",
     "output_type": "stream",
     "text": [
      "Número de libros publicados después del 1 de enero de 2000: 819\n"
     ]
    }
   ],
   "source": [
    "# Consulta SQL con COUNT\n",
    "query_1 = \"SELECT COUNT(book_id) AS num_books FROM books WHERE publication_date > '2000-01-01'\"\n",
    "\n",
    "# Ejecutar la consulta y cargar los resultados en un DataFrame\n",
    "num_books_df = pd.read_sql(query_1, con=engine)\n",
    "\n",
    "# Obtener el número de libros del DataFrame\n",
    "num_books = num_books_df['num_books'].iloc[0]\n",
    "\n",
    "print(f\"Número de libros publicados después del 1 de enero de 2000: {num_books}\")"
   ]
  },
  {
   "cell_type": "markdown",
   "metadata": {},
   "source": [
    "El hecho de que se hayan publicado 819 libros después del 1 de enero de 2000 refleja una rápida adaptación y respuesta del mercado editorial a las cambiantes demandas de los consumidores. Las editoriales han estado activamente produciendo contenido nuevo para mantener el interés de los lectores durante estos tiempos.\n",
    "\n",
    "Para las startups que compiten en este mercado, este número indica una oportunidad significativa para integrar una amplia gama de nuevos títulos en sus aplicaciones. Esto no solo atraerá a usuarios ávidos de nuevas lecturas, sino que también les permitirá ofrecer un catálogo actualizado y relevante."
   ]
  },
  {
   "cell_type": "markdown",
   "metadata": {},
   "source": [
    "<div class=\"alert alert-block alert-success\">\n",
    "<b>Comentario del revisor (1ra Iteracion)</b> <a class=“tocSkip”></a>\n",
    "\n",
    "Buen trabajo con el cálculo! Aplicaste el filtro correcto para obtener los datos\n",
    "</div>"
   ]
  },
  {
   "cell_type": "markdown",
   "metadata": {},
   "source": [
    "#### Encuentra el número de reseñas de usuarios y la calificación promedio para cada libro."
   ]
  },
  {
   "cell_type": "code",
   "execution_count": 17,
   "metadata": {},
   "outputs": [
    {
     "data": {
      "text/html": [
       "<div>\n",
       "<style scoped>\n",
       "    .dataframe tbody tr th:only-of-type {\n",
       "        vertical-align: middle;\n",
       "    }\n",
       "\n",
       "    .dataframe tbody tr th {\n",
       "        vertical-align: top;\n",
       "    }\n",
       "\n",
       "    .dataframe thead th {\n",
       "        text-align: right;\n",
       "    }\n",
       "</style>\n",
       "<table border=\"1\" class=\"dataframe\">\n",
       "  <thead>\n",
       "    <tr style=\"text-align: right;\">\n",
       "      <th></th>\n",
       "      <th>title</th>\n",
       "      <th>num_reviews</th>\n",
       "      <th>avg_rating</th>\n",
       "    </tr>\n",
       "  </thead>\n",
       "  <tbody>\n",
       "    <tr>\n",
       "      <th>0</th>\n",
       "      <td>1 000 Places to See Before You Die</td>\n",
       "      <td>1</td>\n",
       "      <td>2.500000</td>\n",
       "    </tr>\n",
       "    <tr>\n",
       "      <th>1</th>\n",
       "      <td>13 Little Blue Envelopes (Little Blue Envelope...</td>\n",
       "      <td>3</td>\n",
       "      <td>4.666667</td>\n",
       "    </tr>\n",
       "    <tr>\n",
       "      <th>2</th>\n",
       "      <td>1491: New Revelations of the Americas Before C...</td>\n",
       "      <td>2</td>\n",
       "      <td>4.500000</td>\n",
       "    </tr>\n",
       "    <tr>\n",
       "      <th>3</th>\n",
       "      <td>1776</td>\n",
       "      <td>4</td>\n",
       "      <td>4.000000</td>\n",
       "    </tr>\n",
       "    <tr>\n",
       "      <th>4</th>\n",
       "      <td>1st to Die (Women's Murder Club  #1)</td>\n",
       "      <td>4</td>\n",
       "      <td>3.500000</td>\n",
       "    </tr>\n",
       "    <tr>\n",
       "      <th>...</th>\n",
       "      <td>...</td>\n",
       "      <td>...</td>\n",
       "      <td>...</td>\n",
       "    </tr>\n",
       "    <tr>\n",
       "      <th>994</th>\n",
       "      <td>Wyrd Sisters (Discworld  #6; Witches #2)</td>\n",
       "      <td>3</td>\n",
       "      <td>3.666667</td>\n",
       "    </tr>\n",
       "    <tr>\n",
       "      <th>995</th>\n",
       "      <td>Xenocide (Ender's Saga  #3)</td>\n",
       "      <td>3</td>\n",
       "      <td>3.400000</td>\n",
       "    </tr>\n",
       "    <tr>\n",
       "      <th>996</th>\n",
       "      <td>Year of Wonders</td>\n",
       "      <td>4</td>\n",
       "      <td>3.200000</td>\n",
       "    </tr>\n",
       "    <tr>\n",
       "      <th>997</th>\n",
       "      <td>You Suck (A Love Story  #2)</td>\n",
       "      <td>2</td>\n",
       "      <td>4.500000</td>\n",
       "    </tr>\n",
       "    <tr>\n",
       "      <th>998</th>\n",
       "      <td>Zen and the Art of Motorcycle Maintenance: An ...</td>\n",
       "      <td>4</td>\n",
       "      <td>3.833333</td>\n",
       "    </tr>\n",
       "  </tbody>\n",
       "</table>\n",
       "<p>999 rows × 3 columns</p>\n",
       "</div>"
      ],
      "text/plain": [
       "                                                 title  num_reviews  \\\n",
       "0                   1 000 Places to See Before You Die            1   \n",
       "1    13 Little Blue Envelopes (Little Blue Envelope...            3   \n",
       "2    1491: New Revelations of the Americas Before C...            2   \n",
       "3                                                 1776            4   \n",
       "4                 1st to Die (Women's Murder Club  #1)            4   \n",
       "..                                                 ...          ...   \n",
       "994           Wyrd Sisters (Discworld  #6; Witches #2)            3   \n",
       "995                        Xenocide (Ender's Saga  #3)            3   \n",
       "996                                    Year of Wonders            4   \n",
       "997                        You Suck (A Love Story  #2)            2   \n",
       "998  Zen and the Art of Motorcycle Maintenance: An ...            4   \n",
       "\n",
       "     avg_rating  \n",
       "0      2.500000  \n",
       "1      4.666667  \n",
       "2      4.500000  \n",
       "3      4.000000  \n",
       "4      3.500000  \n",
       "..          ...  \n",
       "994    3.666667  \n",
       "995    3.400000  \n",
       "996    3.200000  \n",
       "997    4.500000  \n",
       "998    3.833333  \n",
       "\n",
       "[999 rows x 3 columns]"
      ]
     },
     "metadata": {},
     "output_type": "display_data"
    }
   ],
   "source": [
    "# Creación de la consulta \n",
    "query_2 = \"\"\"SELECT books.title, COUNT(DISTINCT reviews.review_id) AS num_reviews, AVG(ratings.rating) AS avg_rating\n",
    "             FROM books\n",
    "             LEFT JOIN reviews ON books.book_id = reviews.book_id\n",
    "             LEFT JOIN ratings ON books.book_id = ratings.book_id\n",
    "             GROUP BY \n",
    "             books.title; \"\"\"\n",
    "\n",
    "\n",
    "# Ejecutar la consulta y cargar los resultados en un DataFrame \n",
    "results_df = pd.read_sql(query_2, con=engine) \n",
    "\n",
    "# Mostrar los resultados usando display() \n",
    "display(results_df)\n"
   ]
  },
  {
   "cell_type": "markdown",
   "metadata": {},
   "source": [
    "La cantidad de reseñas por libro varía significativamente, desde una única reseña hasta cuatro reseñas en los ejemplos proporcionados. Esto sugiere que algunos libros tienen un mayor nivel de participación de los usuarios que otros, lo cual podría estar influenciado por factores como la popularidad del libro, la campaña de marketing y la accesibilidad."
   ]
  },
  {
   "cell_type": "markdown",
   "metadata": {},
   "source": [
    "<div class=\"alert alert-block alert-danger\">\n",
    "<b>Comentario del revisor (1ra Iteracion)</b> <a class=“tocSkip”></a>\n",
    "\n",
    "Aquí debes hacer uso de JOIN para que puedes usar la información de las tablas `books`, `reviews` y `ratings` que es donde están las columnas para que saques el resultado correcto y recuerda que solo debes usar python para hacer `display()` de tus resultados nada más\n",
    "</div>"
   ]
  },
  {
   "cell_type": "markdown",
   "metadata": {},
   "source": [
    "<div class=\"alert alert-block alert-success\">\n",
    "<b>Comentario del revisor (2da Iteracion)</b> <a class=“tocSkip”></a>\n",
    "\n",
    "Muy bien! Ahora aplicaste los JOIN necesario para tomar los datos de las diferentes tablas\n",
    "</div>"
   ]
  },
  {
   "cell_type": "markdown",
   "metadata": {},
   "source": [
    "#### Identifica la editorial que ha publicado el mayor número de libros con más de 50 páginas (esto te ayudará a excluir folletos y publicaciones similares de tu análisis)."
   ]
  },
  {
   "cell_type": "code",
   "execution_count": 20,
   "metadata": {},
   "outputs": [
    {
     "data": {
      "text/html": [
       "<div>\n",
       "<style scoped>\n",
       "    .dataframe tbody tr th:only-of-type {\n",
       "        vertical-align: middle;\n",
       "    }\n",
       "\n",
       "    .dataframe tbody tr th {\n",
       "        vertical-align: top;\n",
       "    }\n",
       "\n",
       "    .dataframe thead th {\n",
       "        text-align: right;\n",
       "    }\n",
       "</style>\n",
       "<table border=\"1\" class=\"dataframe\">\n",
       "  <thead>\n",
       "    <tr style=\"text-align: right;\">\n",
       "      <th></th>\n",
       "      <th>publi</th>\n",
       "      <th>books_cnt</th>\n",
       "    </tr>\n",
       "  </thead>\n",
       "  <tbody>\n",
       "    <tr>\n",
       "      <th>0</th>\n",
       "      <td>Penguin Books</td>\n",
       "      <td>42</td>\n",
       "    </tr>\n",
       "  </tbody>\n",
       "</table>\n",
       "</div>"
      ],
      "text/plain": [
       "           publi  books_cnt\n",
       "0  Penguin Books         42"
      ]
     },
     "metadata": {},
     "output_type": "display_data"
    }
   ],
   "source": [
    "# Creación de la consulta \n",
    "query_4 = \"\"\"SELECT publishers.publisher AS publi, COUNT(DISTINCT books.book_id) AS books_cnt \n",
    "             FROM books \n",
    "             INNER JOIN publishers ON publishers.publisher_id = books.publisher_id \n",
    "             WHERE books.num_pages > 50 \n",
    "             GROUP BY publishers.publisher \n",
    "             ORDER BY books_cnt DESC \n",
    "             LIMIT 1;\"\"\"\n",
    "\n",
    "# Ejecutar la consulta y cargar los resultados en un DataFrame\n",
    "pub_df = pd.read_sql(query_4, con=engine)\n",
    "\n",
    "#Impresión de resultados\n",
    "display(pub_df)"
   ]
  },
  {
   "cell_type": "markdown",
   "metadata": {},
   "source": [
    "Este resultado sugiere que Penguin Books podría ser una editorial clave a considerar para colaboraciones o análisis de mercado futuros. Su capacidad para publicar un número significativo de libros más sustanciosos indica una infraestructura editorial robusta y un compromiso con la publicación de obras de calidad.\n",
    "\n"
   ]
  },
  {
   "cell_type": "markdown",
   "metadata": {},
   "source": [
    "<div class=\"alert alert-block alert-success\">\n",
    "<b>Comentario del revisor (1ra Iteracion)</b> <a class=“tocSkip”></a>\n",
    "\n",
    "Perfecto!\n",
    "</div>"
   ]
  },
  {
   "cell_type": "markdown",
   "metadata": {},
   "source": [
    "#### Identifica al autor que tiene la más alta calificación promedio del libro: mira solo los libros con al menos 50 calificaciones."
   ]
  },
  {
   "cell_type": "code",
   "execution_count": 23,
   "metadata": {},
   "outputs": [
    {
     "data": {
      "text/html": [
       "<div>\n",
       "<style scoped>\n",
       "    .dataframe tbody tr th:only-of-type {\n",
       "        vertical-align: middle;\n",
       "    }\n",
       "\n",
       "    .dataframe tbody tr th {\n",
       "        vertical-align: top;\n",
       "    }\n",
       "\n",
       "    .dataframe thead th {\n",
       "        text-align: right;\n",
       "    }\n",
       "</style>\n",
       "<table border=\"1\" class=\"dataframe\">\n",
       "  <thead>\n",
       "    <tr style=\"text-align: right;\">\n",
       "      <th></th>\n",
       "      <th>author_name</th>\n",
       "      <th>rating_avg</th>\n",
       "    </tr>\n",
       "  </thead>\n",
       "  <tbody>\n",
       "    <tr>\n",
       "      <th>0</th>\n",
       "      <td>J.K. Rowling/Mary GrandPré</td>\n",
       "      <td>4.287097</td>\n",
       "    </tr>\n",
       "  </tbody>\n",
       "</table>\n",
       "</div>"
      ],
      "text/plain": [
       "                  author_name  rating_avg\n",
       "0  J.K. Rowling/Mary GrandPré    4.287097"
      ]
     },
     "metadata": {},
     "output_type": "display_data"
    }
   ],
   "source": [
    "# Creación de la consulta \n",
    "query_5 = \"\"\" SELECT authors.author AS author_name, AVG(ratings.rating) AS rating_avg\n",
    "              FROM books\n",
    "              INNER JOIN ratings ON books.book_id = ratings.book_id\n",
    "              INNER JOIN authors ON books.author_id = authors.author_id\n",
    "              WHERE books.book_id IN (\n",
    "                  SELECT book_id \n",
    "                  FROM ratings \n",
    "                  GROUP BY book_id \n",
    "                  HAVING COUNT(rating) >= 50)\n",
    "              GROUP BY authors.author\n",
    "              ORDER BY rating_avg DESC\n",
    "              LIMIT 1; \"\"\"\n",
    "\n",
    "# Ejecutar la consulta y cargar los resultados en un DataFrame\n",
    "author_df = pd.read_sql(query_5, con=engine)\n",
    "\n",
    "#Impresión de resultados\n",
    "display(author_df)"
   ]
  },
  {
   "cell_type": "markdown",
   "metadata": {},
   "source": [
    "J.K. Rowling, con la colaboración de Mary GrandPré en las ilustraciones, se destaca significativamente en términos de calidad literaria, según la percepción de los usuarios. Una calificación promedio de 4.29, basada en libros con al menos 50 calificaciones, es un fuerte indicador de la consistencia y excelencia en la producción de contenido.\n",
    "\n",
    "Para la nueva aplicación, destacar las obras de J.K. Rowling puede ser una estrategia efectiva para atraer y retener a los usuarios. Promocionar autores con altas calificaciones puede mejorar la percepción de calidad de la plataforma y atraer a lectores que buscan contenido altamente valorado."
   ]
  },
  {
   "cell_type": "markdown",
   "metadata": {},
   "source": [
    "<div class=\"alert alert-block alert-danger\">\n",
    "<b>Comentario del revisor (1ra Iteracion)</b> <a class=“tocSkip”></a>\n",
    "\n",
    "Aquí deberías hacer uso de subconsultas, una para obtener primero los book_id que tengan mínimo 50 ratings y con ese resultado debes hacer el JOIN con la tabla de authors para sacar el promedio del rating\n",
    "</div>"
   ]
  },
  {
   "cell_type": "markdown",
   "metadata": {},
   "source": [
    "<div class=\"alert alert-block alert-success\">\n",
    "<b>Comentario del revisor (2da Iteracion)</b> <a class=“tocSkip”></a>\n",
    "\n",
    "Correcto! Ahora obtuviste el autor correcto\n",
    "</div>"
   ]
  },
  {
   "cell_type": "markdown",
   "metadata": {},
   "source": [
    "#### Encuentra el número promedio de reseñas de texto entre los usuarios que calificaron más de 50 libros."
   ]
  },
  {
   "cell_type": "code",
   "execution_count": 9,
   "metadata": {},
   "outputs": [
    {
     "name": "stdout",
     "output_type": "stream",
     "text": [
      "   avg_review_cnt\n",
      "0       24.333333\n"
     ]
    }
   ],
   "source": [
    "# Consulta SQL con subconsultas anidadas\n",
    "query_6 = \"\"\"SELECT AVG(SUBQ2.review_cnt) AS avg_review_cnt\n",
    "             FROM (SELECT COUNT(reviews.review_id) AS review_cnt, SUBQ1.username\n",
    "                   FROM (SELECT username, COUNT(rating_id) AS rating_cnt\n",
    "                         FROM ratings\n",
    "                         GROUP BY username\n",
    "                         HAVING COUNT(rating_id) > 50) AS SUBQ1\n",
    "             INNER JOIN reviews ON reviews.username = SUBQ1.username\n",
    "             GROUP BY SUBQ1.username) AS SUBQ2 \"\"\"\n",
    "\n",
    "# Ejecutar la consulta y cargar los resultados en un DataFrame\n",
    "avg_reviews_df = pd.read_sql(query_6, con=engine)\n",
    "\n",
    "# Mostrar el número promedio de reseñas de texto\n",
    "print(avg_reviews_df)\n"
   ]
  },
  {
   "cell_type": "markdown",
   "metadata": {},
   "source": [
    "El hecho de que los usuarios que calificaron más de 50 libros hayan dejado un promedio de aproximadamente 24.33 reseñas de texto indica un alto nivel de compromiso y participación. Estos usuarios no solo califican los libros, sino que también se toman el tiempo para escribir reseñas detalladas, lo cual es un indicador de una comunidad activa y entusiasta."
   ]
  },
  {
   "cell_type": "markdown",
   "metadata": {},
   "source": [
    "<div class=\"alert alert-block alert-success\">\n",
    "<b>Comentario del revisor (1ra Iteracion)</b> <a class=“tocSkip”></a>\n",
    "\n",
    "Muy bien utilizada la subconsulta para primero tomar los usuarios y el total para luego sacar el promedio!\n",
    "</div>"
   ]
  },
  {
   "cell_type": "markdown",
   "metadata": {},
   "source": [
    "# Conclusión\n",
    "\n",
    "El análisis de la base de datos proporcionada por el servicio emergente en el mercado literario digital ha revelado una serie de insights valiosos que pueden informar el desarrollo de una propuesta de valor sólida para una nueva aplicación de lectura. A continuación, se resumen los hallazgos más relevantes:\n",
    "\n",
    "1. **Producción Editorial Activa**:\n",
    "   - Desde el 1 de enero de 2000, se han publicado 819 libros, indicando una producción editorial robusta y adaptativa a las demandas cambiantes del mercado. Esto refleja la capacidad de las editoriales para mantenerse relevantes en tiempos de crisis y cambios globales, como lo fue la pandemia del coronavirus.\n",
    "\n",
    "2. **Cantidad de reseñas por libro**:\n",
    "   - La cantidad de reseñas por libro varía significativamente, desde una única reseña hasta cuatro reseñas en los ejemplos proporcionados. Esto sugiere que algunos libros tienen un mayor nivel de participación de los usuarios que otros, lo cual podría estar influenciado por factores como la popularidad del libro, la campaña de marketing y la accesibilidad..\n",
    "\n",
    "3. **Calidad Literaria de Diana Gabaldon**:\n",
    "   - Identificar a J.K. Rowling como el autor con la más alta calificación promedio proporciona una valiosa oportunidad para desarrollar estrategias de contenido y marketing que mejoren la experiencia del usuario y el éxito de la nueva aplicación. Los libros de J.K. Rowling, especialmente la serie de Harry Potter, no solo atraen a muchos lectores, sino que también son altamente valorados por ellos, indicando una base de seguidores leales y satisfechos.\n",
    "\n",
    "4. **Compromiso de los Usuarios**:\n",
    "   - Los usuarios que han calificado más de 50 libros han dejado un promedio de 24.33 reseñas de texto. Este alto nivel de participación y feedback cualitativo refleja una comunidad activa y comprometida, lo cual es un activo valioso para cualquier plataforma literaria.\n",
    "\n",
    "### Implicaciones y Oportunidades\n",
    "\n",
    "- **Desarrollo de Propuestas de Valor**: Los insights obtenidos pueden ser utilizados para desarrollar características innovadoras y personalizadas en la nueva aplicación. Destacar autores populares y de alta calidad, como Diana Gabaldon, y colaborar con editoriales líderes, como Penguin Books, puede atraer y retener a los usuarios.\n",
    "\n",
    "- **Estrategias de Fomento de Participación**: Implementar programas de incentivos y recompensas para fomentar la escritura de reseñas de texto puede aumentar aún más la participación de los usuarios y enriquecer la plataforma con feedback valioso.\n",
    "\n",
    "- **Optimización de Contenidos**: Ofrecer un catálogo variado y de alta calidad, basado en las tendencias y preferencias reveladas por el análisis, puede mejorar la experiencia del usuario y satisfacer las necesidades de los lectores contemporáneos."
   ]
  },
  {
   "cell_type": "markdown",
   "metadata": {},
   "source": [
    "<div class=\"alert alert-block alert-success\">\n",
    "<b>Comentario del revisor (2da Iteracion)</b> <a class=“tocSkip”></a>\n",
    "\n",
    "Buen trabajo con los últimos cambios Clara! SQL es un lenguaje que verás con mucha frecuencia en tu vida laboral por lo que si te recomendaría darle algún tiempo de práctica más para que mejores tus habilidades con este lenguaje y que puedas destacar en el mercado laboral.\n",
    "    \n",
    "Saludos!\n",
    "</div>"
   ]
  }
 ],
 "metadata": {
  "ExecuteTimeLog": [
   {
    "duration": 8,
    "start_time": "2024-12-18T04:32:04.131Z"
   },
   {
    "duration": 365,
    "start_time": "2024-12-18T04:32:15.539Z"
   },
   {
    "duration": 61,
    "start_time": "2024-12-18T04:32:41.176Z"
   },
   {
    "duration": 5,
    "start_time": "2024-12-18T04:33:17.039Z"
   },
   {
    "duration": 5,
    "start_time": "2024-12-18T04:33:55.594Z"
   },
   {
    "duration": 5,
    "start_time": "2024-12-18T04:34:26.532Z"
   },
   {
    "duration": 4,
    "start_time": "2024-12-18T04:34:34.077Z"
   },
   {
    "duration": 4,
    "start_time": "2024-12-18T04:34:45.783Z"
   },
   {
    "duration": 232,
    "start_time": "2024-12-18T04:34:54.806Z"
   },
   {
    "duration": 4,
    "start_time": "2024-12-18T04:35:22.738Z"
   },
   {
    "duration": 41,
    "start_time": "2024-12-18T04:46:11.930Z"
   },
   {
    "duration": 3,
    "start_time": "2024-12-18T04:46:24.634Z"
   },
   {
    "duration": 15,
    "start_time": "2024-12-18T04:46:30.232Z"
   },
   {
    "duration": 10,
    "start_time": "2024-12-18T04:47:14.965Z"
   },
   {
    "duration": 77,
    "start_time": "2024-12-18T04:52:59.774Z"
   },
   {
    "duration": 39,
    "start_time": "2024-12-18T04:53:18.645Z"
   },
   {
    "duration": 418,
    "start_time": "2024-12-18T05:00:18.123Z"
   },
   {
    "duration": 103,
    "start_time": "2024-12-18T05:03:36.391Z"
   },
   {
    "duration": 99,
    "start_time": "2024-12-18T05:04:39.775Z"
   },
   {
    "duration": 9,
    "start_time": "2024-12-18T05:06:56.021Z"
   },
   {
    "duration": 104,
    "start_time": "2024-12-18T05:12:54.041Z"
   },
   {
    "duration": 107,
    "start_time": "2024-12-18T05:13:15.708Z"
   },
   {
    "duration": 134,
    "start_time": "2024-12-18T05:14:57.163Z"
   },
   {
    "duration": 8,
    "start_time": "2024-12-18T05:15:31.634Z"
   },
   {
    "duration": 7,
    "start_time": "2024-12-18T05:17:29.136Z"
   },
   {
    "duration": 6,
    "start_time": "2024-12-18T05:19:52.862Z"
   },
   {
    "duration": 7,
    "start_time": "2024-12-18T05:20:08.479Z"
   },
   {
    "duration": 7,
    "start_time": "2024-12-18T05:26:44.798Z"
   },
   {
    "duration": 7,
    "start_time": "2024-12-18T05:26:53.185Z"
   },
   {
    "duration": 3,
    "start_time": "2024-12-18T05:30:11.985Z"
   },
   {
    "duration": 3,
    "start_time": "2024-12-18T05:31:14.153Z"
   },
   {
    "duration": 8,
    "start_time": "2024-12-18T05:32:43.052Z"
   },
   {
    "duration": 7,
    "start_time": "2024-12-18T05:32:56.847Z"
   },
   {
    "duration": 392,
    "start_time": "2024-12-18T05:34:52.411Z"
   },
   {
    "duration": 6,
    "start_time": "2024-12-18T05:35:20.632Z"
   },
   {
    "duration": 6,
    "start_time": "2024-12-18T05:35:46.279Z"
   },
   {
    "duration": 11,
    "start_time": "2024-12-18T05:37:35.714Z"
   },
   {
    "duration": 11,
    "start_time": "2024-12-18T05:37:54.243Z"
   },
   {
    "duration": 10,
    "start_time": "2024-12-18T05:38:16.674Z"
   },
   {
    "duration": 10,
    "start_time": "2024-12-18T05:38:31.733Z"
   },
   {
    "duration": 401,
    "start_time": "2024-12-19T04:19:24.452Z"
   },
   {
    "duration": 24,
    "start_time": "2024-12-19T04:19:24.855Z"
   },
   {
    "duration": 64,
    "start_time": "2024-12-19T04:19:24.881Z"
   },
   {
    "duration": 6,
    "start_time": "2024-12-19T04:19:24.947Z"
   },
   {
    "duration": 10,
    "start_time": "2024-12-19T04:19:24.955Z"
   },
   {
    "duration": 2,
    "start_time": "2024-12-19T04:19:33.242Z"
   },
   {
    "duration": 656,
    "start_time": "2024-12-19T04:20:48.399Z"
   },
   {
    "duration": 6,
    "start_time": "2024-12-19T04:22:03.925Z"
   },
   {
    "duration": 106,
    "start_time": "2024-12-19T04:22:22.376Z"
   },
   {
    "duration": 103,
    "start_time": "2024-12-19T04:22:56.177Z"
   },
   {
    "duration": 103,
    "start_time": "2024-12-19T04:23:12.433Z"
   },
   {
    "duration": 104,
    "start_time": "2024-12-19T04:23:59.303Z"
   },
   {
    "duration": 11,
    "start_time": "2024-12-19T04:24:41.588Z"
   },
   {
    "duration": 12,
    "start_time": "2024-12-19T04:25:59.967Z"
   },
   {
    "duration": 10,
    "start_time": "2024-12-19T04:27:13.677Z"
   },
   {
    "duration": 118,
    "start_time": "2024-12-19T04:28:57.929Z"
   },
   {
    "duration": 106,
    "start_time": "2024-12-19T04:31:11.508Z"
   },
   {
    "duration": 108,
    "start_time": "2024-12-19T04:31:28.777Z"
   },
   {
    "duration": 107,
    "start_time": "2024-12-19T04:35:42.668Z"
   },
   {
    "duration": 105,
    "start_time": "2024-12-19T04:35:56.916Z"
   },
   {
    "duration": 104,
    "start_time": "2024-12-19T04:36:21.470Z"
   },
   {
    "duration": 106,
    "start_time": "2024-12-19T04:42:13.404Z"
   },
   {
    "duration": 109,
    "start_time": "2024-12-19T04:44:29.802Z"
   },
   {
    "duration": 101,
    "start_time": "2024-12-19T04:44:52.544Z"
   },
   {
    "duration": 21,
    "start_time": "2024-12-19T04:45:23.118Z"
   },
   {
    "duration": 8,
    "start_time": "2024-12-19T05:01:06.392Z"
   },
   {
    "duration": 9,
    "start_time": "2024-12-19T05:01:14.901Z"
   },
   {
    "duration": 10,
    "start_time": "2024-12-19T05:25:13.137Z"
   },
   {
    "duration": 9,
    "start_time": "2024-12-19T05:25:19.218Z"
   },
   {
    "duration": 9,
    "start_time": "2024-12-19T05:25:24.868Z"
   },
   {
    "duration": 9,
    "start_time": "2024-12-19T05:25:27.321Z"
   },
   {
    "duration": 329,
    "start_time": "2024-12-19T05:25:40.599Z"
   },
   {
    "duration": 22,
    "start_time": "2024-12-19T05:25:40.930Z"
   },
   {
    "duration": 64,
    "start_time": "2024-12-19T05:25:40.953Z"
   },
   {
    "duration": 6,
    "start_time": "2024-12-19T05:25:41.020Z"
   },
   {
    "duration": 9,
    "start_time": "2024-12-19T05:25:41.027Z"
   },
   {
    "duration": 8,
    "start_time": "2024-12-19T05:25:41.037Z"
   },
   {
    "duration": 7,
    "start_time": "2024-12-19T05:25:41.047Z"
   },
   {
    "duration": 645,
    "start_time": "2024-12-19T05:25:51.674Z"
   },
   {
    "duration": 118,
    "start_time": "2024-12-19T05:27:48.254Z"
   },
   {
    "duration": 105,
    "start_time": "2024-12-19T05:29:27.990Z"
   },
   {
    "duration": 12,
    "start_time": "2024-12-19T05:30:16.590Z"
   },
   {
    "duration": 8,
    "start_time": "2024-12-19T05:38:52.806Z"
   },
   {
    "duration": 9,
    "start_time": "2024-12-19T05:45:20.700Z"
   },
   {
    "duration": 10,
    "start_time": "2024-12-19T05:58:06.773Z"
   },
   {
    "duration": 10,
    "start_time": "2024-12-19T06:01:25.775Z"
   },
   {
    "duration": 160,
    "start_time": "2024-12-23T04:44:23.829Z"
   },
   {
    "duration": 391,
    "start_time": "2024-12-23T04:44:32.003Z"
   },
   {
    "duration": 23,
    "start_time": "2024-12-23T04:44:32.396Z"
   },
   {
    "duration": 71,
    "start_time": "2024-12-23T04:44:32.421Z"
   },
   {
    "duration": 7,
    "start_time": "2024-12-23T04:44:32.494Z"
   },
   {
    "duration": 13,
    "start_time": "2024-12-23T04:44:32.503Z"
   },
   {
    "duration": 11,
    "start_time": "2024-12-23T04:44:32.518Z"
   },
   {
    "duration": 9,
    "start_time": "2024-12-23T04:44:32.531Z"
   },
   {
    "duration": 12,
    "start_time": "2024-12-23T04:44:32.541Z"
   },
   {
    "duration": 10,
    "start_time": "2024-12-23T04:44:32.554Z"
   },
   {
    "duration": 8,
    "start_time": "2024-12-23T04:45:27.348Z"
   },
   {
    "duration": 9,
    "start_time": "2024-12-23T04:46:46.375Z"
   },
   {
    "duration": 9,
    "start_time": "2024-12-23T04:48:34.864Z"
   },
   {
    "duration": 9,
    "start_time": "2024-12-23T04:49:17.364Z"
   },
   {
    "duration": 9,
    "start_time": "2024-12-23T04:52:36.620Z"
   },
   {
    "duration": 71,
    "start_time": "2024-12-23T04:53:05.304Z"
   },
   {
    "duration": 38,
    "start_time": "2024-12-23T04:53:33.596Z"
   },
   {
    "duration": 38,
    "start_time": "2024-12-23T04:54:34.820Z"
   },
   {
    "duration": 12,
    "start_time": "2024-12-23T05:02:55.688Z"
   },
   {
    "duration": 13,
    "start_time": "2024-12-23T05:03:58.422Z"
   },
   {
    "duration": 12,
    "start_time": "2024-12-23T05:13:48.122Z"
   },
   {
    "duration": 201,
    "start_time": "2024-12-23T05:14:16.057Z"
   },
   {
    "duration": 55,
    "start_time": "2024-12-23T05:14:28.212Z"
   },
   {
    "duration": 16,
    "start_time": "2024-12-23T05:16:33.272Z"
   }
  ],
  "kernelspec": {
   "display_name": "Python 3 (ipykernel)",
   "language": "python",
   "name": "python3"
  },
  "language_info": {
   "codemirror_mode": {
    "name": "ipython",
    "version": 3
   },
   "file_extension": ".py",
   "mimetype": "text/x-python",
   "name": "python",
   "nbconvert_exporter": "python",
   "pygments_lexer": "ipython3",
   "version": "3.9.19"
  },
  "toc": {
   "base_numbering": 1,
   "nav_menu": {},
   "number_sections": true,
   "sideBar": true,
   "skip_h1_title": true,
   "title_cell": "Table of Contents",
   "title_sidebar": "Contents",
   "toc_cell": false,
   "toc_position": {},
   "toc_section_display": true,
   "toc_window_display": false
  }
 },
 "nbformat": 4,
 "nbformat_minor": 2
}
